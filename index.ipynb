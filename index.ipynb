{
 "cells": [
  {
   "cell_type": "markdown",
   "metadata": {},
   "source": [
    "# Regression Model Validation - Lab\n",
    "\n",
    "## Introduction\n",
    "\n",
    "In this lab, you'll be able to validate your model using train-test-split.\n",
    "\n",
    "\n",
    "## Objectives\n",
    "\n",
    "You will be able to:\n",
    "\n",
    "- Calculate the mean squared error (MSE) as a measure of predictive performance\n",
    "- Validate the model using the test data\n"
   ]
  },
  {
   "cell_type": "markdown",
   "metadata": {},
   "source": [
    "## Let's use our Boston Housing Data again!\n",
    "\n",
    "This time, let's only include the variables that were previously selected using recursive feature elimination. We included the code to preprocess below."
   ]
  },
  {
   "cell_type": "code",
   "execution_count": 1,
   "metadata": {},
   "outputs": [],
   "source": [
    "import pandas as pd\n",
    "import numpy as np\n",
    "import matplotlib.pyplot as plt\n",
    "%matplotlib inline\n",
    "from sklearn.datasets import load_boston\n",
    "\n",
    "boston = load_boston()\n",
    "\n",
    "boston_features = pd.DataFrame(boston.data, columns = boston.feature_names)\n",
    "b = boston_features[\"B\"]\n",
    "logdis = np.log(boston_features[\"DIS\"])\n",
    "loglstat = np.log(boston_features[\"LSTAT\"])\n",
    "\n",
    "# minmax scaling\n",
    "boston_features[\"B\"] = (b-min(b))/(max(b)-min(b))\n",
    "boston_features[\"DIS\"] = (logdis-min(logdis))/(max(logdis)-min(logdis))\n",
    "\n",
    "#standardization\n",
    "boston_features[\"LSTAT\"] = (loglstat-np.mean(loglstat))/np.sqrt(np.var(loglstat))"
   ]
  },
  {
   "cell_type": "code",
   "execution_count": 2,
   "metadata": {},
   "outputs": [],
   "source": [
    "X = boston_features[['CHAS', 'RM', 'DIS', 'B', 'LSTAT']]\n",
    "y = boston.target"
   ]
  },
  {
   "cell_type": "markdown",
   "metadata": {},
   "source": [
    "## Perform a train-test-split"
   ]
  },
  {
   "cell_type": "code",
   "execution_count": 3,
   "metadata": {},
   "outputs": [],
   "source": [
    "from sklearn.model_selection import train_test_split"
   ]
  },
  {
   "cell_type": "code",
   "execution_count": 4,
   "metadata": {},
   "outputs": [],
   "source": [
    "X_train, X_test, y_train, y_test = train_test_split (X,y,test_size = 0.2)"
   ]
  },
  {
   "cell_type": "markdown",
   "metadata": {},
   "source": [
    "## Apply your model to the train set"
   ]
  },
  {
   "cell_type": "markdown",
   "metadata": {},
   "source": [
    "#### Importing and initializing the model class"
   ]
  },
  {
   "cell_type": "code",
   "execution_count": 5,
   "metadata": {},
   "outputs": [],
   "source": [
    "from sklearn.linear_model import LinearRegression\n",
    "lin_reg_model = LinearRegression()"
   ]
  },
  {
   "cell_type": "markdown",
   "metadata": {},
   "source": [
    "#### Fitting the model to the train data"
   ]
  },
  {
   "cell_type": "code",
   "execution_count": 6,
   "metadata": {},
   "outputs": [
    {
     "data": {
      "text/plain": [
       "LinearRegression(copy_X=True, fit_intercept=True, n_jobs=None,\n",
       "         normalize=False)"
      ]
     },
     "execution_count": 6,
     "metadata": {},
     "output_type": "execute_result"
    }
   ],
   "source": [
    "lin_reg_model.fit(X_train,y_train)"
   ]
  },
  {
   "cell_type": "markdown",
   "metadata": {},
   "source": [
    "#### Calculating predictions on the train set, and on the test set"
   ]
  },
  {
   "cell_type": "code",
   "execution_count": 7,
   "metadata": {},
   "outputs": [],
   "source": [
    "y_train_pred = lin_reg_model.predict(X_train)\n",
    "y_test_pred = lin_reg_model.predict(X_test)"
   ]
  },
  {
   "cell_type": "markdown",
   "metadata": {},
   "source": [
    "#### Calculating your residuals"
   ]
  },
  {
   "cell_type": "code",
   "execution_count": 8,
   "metadata": {},
   "outputs": [],
   "source": [
    "from sklearn import metrics\n",
    "res_train = y_train_pred - y_train\n",
    "res_test = y_test_pred - y_test"
   ]
  },
  {
   "cell_type": "markdown",
   "metadata": {},
   "source": [
    "#### Calculating the Mean Squared Error\n",
    "A good way to compare overall performance is to compare the mean squarred error for the predicted values on the train and test sets."
   ]
  },
  {
   "cell_type": "code",
   "execution_count": 9,
   "metadata": {},
   "outputs": [],
   "source": [
    "RMSE_train = np.sqrt(metrics.mean_squared_error(y_train,y_train_pred))\n",
    "RMSE_test = np.sqrt(metrics.mean_squared_error(y_test,y_test_pred))"
   ]
  },
  {
   "cell_type": "code",
   "execution_count": 10,
   "metadata": {},
   "outputs": [
    {
     "name": "stdout",
     "output_type": "stream",
     "text": [
      "4.720452098147144\n",
      "4.440533198787919\n"
     ]
    }
   ],
   "source": [
    "print(RMSE_train)\n",
    "print(RMSE_test)"
   ]
  },
  {
   "cell_type": "markdown",
   "metadata": {},
   "source": [
    "If your test error is substantially worse then our train error, this is a sign that our model doesn't generalize well to future cases."
   ]
  },
  {
   "cell_type": "markdown",
   "metadata": {},
   "source": [
    "One simple way to demonstrate overfitting and underfitting is to alter the size of our train test split. By default, scikit learn's built in method allocates 25% of the data to the test set and 75% to the training set. Fitting a model on only 10% of the data is apt to lead to underfitting, while training a model on 99% of the data is apt to lead to overfitting."
   ]
  },
  {
   "cell_type": "markdown",
   "metadata": {},
   "source": [
    "# Evaluating the effect of train-test split size\n",
    "\n",
    "Iterate over a range of train-test split sizes from .5 to .95. For each of these, generate a new train/test split sample. Fit a model to the training sample and calculate both the training error and the test error (mse) for each of these splits. Plot these two curves (train error vs. training size and test error vs. training size) on a graph."
   ]
  },
  {
   "cell_type": "code",
   "execution_count": 11,
   "metadata": {},
   "outputs": [],
   "source": [
    "def build_model (X,y,split_size=None):\n",
    "    X_train, X_test, y_train, y_test = train_test_split (X,y,test_size = split_size)\n",
    "    lin_reg_model = LinearRegression()\n",
    "    lin_reg_model.fit(X_train,y_train)\n",
    "    y_train_pred = lin_reg_model.predict(X_train)\n",
    "    y_test_pred = lin_reg_model.predict(X_test)\n",
    "    RMSE_train = np.sqrt(metrics.mean_squared_error(y_train,y_train_pred))\n",
    "    RMSE_test = np.sqrt(metrics.mean_squared_error(y_test,y_test_pred))\n",
    "    return (split_size,RMSE_train, RMSE_test)"
   ]
  },
  {
   "cell_type": "code",
   "execution_count": 12,
   "metadata": {},
   "outputs": [],
   "source": [
    "outputs = [build_model (X,y,split_size=i/100) for i in range(5,96)]\n",
    "    "
   ]
  },
  {
   "cell_type": "code",
   "execution_count": 13,
   "metadata": {},
   "outputs": [
    {
     "data": {
      "image/png": "[encoded data removed]",
      "text/plain": [
       "<Figure size 1440x288 with 1 Axes>"
      ]
     },
     "metadata": {
      "needs_background": "light"
     },
     "output_type": "display_data"
    }
   ],
   "source": [
    "df = pd.DataFrame(outputs, columns= [\"size\",\"RMSE_Train\",\"RMSE_Test\"])\n",
    "fig = plt.figure(figsize=(20,4))\n",
    "plt.plot(df[\"size\"],df[\"RMSE_Train\"], color = \"blue\");\n",
    "plt.plot(df[\"size\"],df[\"RMSE_Test\"], color = \"red\");"
   ]
  },
  {
   "cell_type": "markdown",
   "metadata": {},
   "source": [
    "# Evaluating the effect of train-test split size: extension\n",
    "\n",
    "Repeat the previous example, but for each train-test split size, generate 100 iterations of models/errors and save the average train/test error. This will help account for any particularly good/bad models that might have resulted from poor/good splits in the data. "
   ]
  },
  {
   "cell_type": "code",
   "execution_count": 21,
   "metadata": {},
   "outputs": [],
   "source": [
    "def average_split_RMSE (X,y,split_size):\n",
    "    RMSE_list =[ build_model (X,y,split_size) for i in range (0,100)]\n",
    "    df = pd.DataFrame(RMSE_list, columns= [\"size\",\"RMSE_Train\",\"RMSE_Test\"])\n",
    "    #df.drop(\"size\", axis =1).mean()\n",
    "    print (\"For split:{} RMSE_Train: {} , RMSE_Test: {} \".format(split_size, df.RMSE_Train.mean(), df.RMSE_Test.mean()))\n",
    "    return (split_size,df.RMSE_Train.mean(), df.RMSE_Test.mean())"
   ]
  },
  {
   "cell_type": "code",
   "execution_count": 22,
   "metadata": {},
   "outputs": [
    {
     "name": "stdout",
     "output_type": "stream",
     "text": [
      "For split:0.5 RMSE_Train: 4.6164766364984375 , RMSE_Test: 4.780224290967964 \n"
     ]
    },
    {
     "data": {
      "text/plain": [
       "(0.5, 4.6164766364984375, 4.780224290967964)"
      ]
     },
     "execution_count": 22,
     "metadata": {},
     "output_type": "execute_result"
    }
   ],
   "source": [
    "average_split_RMSE(X,y,split_size=0.5)"
   ]
  },
  {
   "cell_type": "code",
   "execution_count": 23,
   "metadata": {
    "scrolled": true
   },
   "outputs": [
    {
     "name": "stdout",
     "output_type": "stream",
     "text": [
      "For split:0.05 RMSE_Train: 4.662190677684142 , RMSE_Test: 4.5014729777518525 \n",
      "For split:0.06 RMSE_Train: 4.6659371203799225 , RMSE_Test: 4.499923429399275 \n",
      "For split:0.07 RMSE_Train: 4.653625248160507 , RMSE_Test: 4.68255389489383 \n",
      "For split:0.08 RMSE_Train: 4.656306590482996 , RMSE_Test: 4.661159507447386 \n",
      "For split:0.09 RMSE_Train: 4.651090599239297 , RMSE_Test: 4.69716776997234 \n",
      "For split:0.1 RMSE_Train: 4.659723853974905 , RMSE_Test: 4.642557466389078 \n",
      "For split:0.11 RMSE_Train: 4.633918925371519 , RMSE_Test: 4.851539327107335 \n",
      "For split:0.12 RMSE_Train: 4.654318061965652 , RMSE_Test: 4.697323879350485 \n",
      "For split:0.13 RMSE_Train: 4.642512768351983 , RMSE_Test: 4.779472533659993 \n",
      "For split:0.14 RMSE_Train: 4.646664620833922 , RMSE_Test: 4.742840247953803 \n",
      "For split:0.15 RMSE_Train: 4.645315853341217 , RMSE_Test: 4.744733723352164 \n",
      "For split:0.16 RMSE_Train: 4.64883363960415 , RMSE_Test: 4.738509395644356 \n",
      "For split:0.17 RMSE_Train: 4.645560275822175 , RMSE_Test: 4.741461082415156 \n",
      "For split:0.18 RMSE_Train: 4.638678074289618 , RMSE_Test: 4.771600833047246 \n",
      "For split:0.19 RMSE_Train: 4.6331910622434265 , RMSE_Test: 4.786932756991485 \n",
      "For split:0.2 RMSE_Train: 4.639024273821544 , RMSE_Test: 4.767425613299118 \n",
      "For split:0.21 RMSE_Train: 4.658402054281991 , RMSE_Test: 4.685069505083323 \n",
      "For split:0.22 RMSE_Train: 4.638889032605794 , RMSE_Test: 4.75659995239516 \n",
      "For split:0.23 RMSE_Train: 4.634275245375015 , RMSE_Test: 4.776702333874779 \n",
      "For split:0.24 RMSE_Train: 4.621967182441441 , RMSE_Test: 4.802719139815394 \n",
      "For split:0.25 RMSE_Train: 4.631252393079013 , RMSE_Test: 4.779864211146425 \n",
      "For split:0.26 RMSE_Train: 4.643157972712583 , RMSE_Test: 4.7517699236463935 \n",
      "For split:0.27 RMSE_Train: 4.633539910330871 , RMSE_Test: 4.765673011976664 \n",
      "For split:0.28 RMSE_Train: 4.634177745844522 , RMSE_Test: 4.7686690653064625 \n",
      "For split:0.29 RMSE_Train: 4.658649779807336 , RMSE_Test: 4.706066465548532 \n",
      "For split:0.3 RMSE_Train: 4.607711553461938 , RMSE_Test: 4.829334265184602 \n",
      "For split:0.31 RMSE_Train: 4.608235579652942 , RMSE_Test: 4.833846550572279 \n",
      "For split:0.32 RMSE_Train: 4.633526531836974 , RMSE_Test: 4.773855918164738 \n",
      "For split:0.33 RMSE_Train: 4.589800503352278 , RMSE_Test: 4.8461425805518745 \n",
      "For split:0.34 RMSE_Train: 4.62935726436923 , RMSE_Test: 4.7774857484286795 \n",
      "For split:0.35 RMSE_Train: 4.616565961886181 , RMSE_Test: 4.8014382029795115 \n",
      "For split:0.36 RMSE_Train: 4.64210263356404 , RMSE_Test: 4.74517140993376 \n",
      "For split:0.37 RMSE_Train: 4.613846178728569 , RMSE_Test: 4.8017292787663965 \n",
      "For split:0.38 RMSE_Train: 4.579721242218758 , RMSE_Test: 4.845331052275481 \n",
      "For split:0.39 RMSE_Train: 4.6070301116474095 , RMSE_Test: 4.802694181762857 \n",
      "For split:0.4 RMSE_Train: 4.621983480409752 , RMSE_Test: 4.779465442350417 \n",
      "For split:0.41 RMSE_Train: 4.6220308447247795 , RMSE_Test: 4.77600431498956 \n",
      "For split:0.42 RMSE_Train: 4.632742729977071 , RMSE_Test: 4.7635015036308035 \n",
      "For split:0.43 RMSE_Train: 4.631877077489687 , RMSE_Test: 4.767637522024199 \n",
      "For split:0.44 RMSE_Train: 4.620710449856435 , RMSE_Test: 4.778445127988867 \n",
      "For split:0.45 RMSE_Train: 4.575961380029517 , RMSE_Test: 4.836167340355648 \n",
      "For split:0.46 RMSE_Train: 4.630604090672682 , RMSE_Test: 4.770703151445656 \n",
      "For split:0.47 RMSE_Train: 4.610162300684234 , RMSE_Test: 4.790549966969298 \n",
      "For split:0.48 RMSE_Train: 4.552721012209376 , RMSE_Test: 4.862209659216786 \n",
      "For split:0.49 RMSE_Train: 4.584703775326355 , RMSE_Test: 4.816021537185519 \n",
      "For split:0.5 RMSE_Train: 4.606541713036502 , RMSE_Test: 4.800568648428139 \n",
      "For split:0.51 RMSE_Train: 4.644373492139125 , RMSE_Test: 4.761341870340306 \n",
      "For split:0.52 RMSE_Train: 4.621376620287635 , RMSE_Test: 4.787447389649964 \n",
      "For split:0.53 RMSE_Train: 4.584094413008172 , RMSE_Test: 4.824538551655117 \n",
      "For split:0.54 RMSE_Train: 4.636998760124007 , RMSE_Test: 4.773445235414002 \n",
      "For split:0.55 RMSE_Train: 4.610912090387027 , RMSE_Test: 4.7922112678587085 \n",
      "For split:0.56 RMSE_Train: 4.633484829718999 , RMSE_Test: 4.78475603659835 \n",
      "For split:0.57 RMSE_Train: 4.579917792530396 , RMSE_Test: 4.823281915084017 \n",
      "For split:0.58 RMSE_Train: 4.593268718355839 , RMSE_Test: 4.8168251550978765 \n",
      "For split:0.59 RMSE_Train: 4.6222177371373 , RMSE_Test: 4.80865021524489 \n",
      "For split:0.6 RMSE_Train: 4.582745076353687 , RMSE_Test: 4.811746278226318 \n",
      "For split:0.61 RMSE_Train: 4.584547921422227 , RMSE_Test: 4.81814596193121 \n",
      "For split:0.62 RMSE_Train: 4.563828907159384 , RMSE_Test: 4.831542955048204 \n",
      "For split:0.63 RMSE_Train: 4.547013727182166 , RMSE_Test: 4.841809595615123 \n",
      "For split:0.64 RMSE_Train: 4.602483351685618 , RMSE_Test: 4.819888100522978 \n",
      "For split:0.65 RMSE_Train: 4.604125091840796 , RMSE_Test: 4.817005172137845 \n",
      "For split:0.66 RMSE_Train: 4.54763172569585 , RMSE_Test: 4.8506658312076 \n",
      "For split:0.67 RMSE_Train: 4.543644076794413 , RMSE_Test: 4.84997731171585 \n",
      "For split:0.68 RMSE_Train: 4.520745790649374 , RMSE_Test: 4.863996539202835 \n",
      "For split:0.69 RMSE_Train: 4.558474690554064 , RMSE_Test: 4.842796266258348 \n",
      "For split:0.7 RMSE_Train: 4.542093394322164 , RMSE_Test: 4.865610964806809 \n",
      "For split:0.71 RMSE_Train: 4.483949434182103 , RMSE_Test: 4.902613803641438 \n",
      "For split:0.72 RMSE_Train: 4.55588832246156 , RMSE_Test: 4.860016574191313 \n",
      "For split:0.73 RMSE_Train: 4.504297538191557 , RMSE_Test: 4.884460215374429 \n",
      "For split:0.74 RMSE_Train: 4.514207156146559 , RMSE_Test: 4.88587527330788 \n",
      "For split:0.75 RMSE_Train: 4.5227454407367755 , RMSE_Test: 4.896182977441427 \n",
      "For split:0.76 RMSE_Train: 4.501306811117342 , RMSE_Test: 4.932859181814937 \n",
      "For split:0.77 RMSE_Train: 4.465246333085345 , RMSE_Test: 4.924989807798824 \n",
      "For split:0.78 RMSE_Train: 4.50701493546731 , RMSE_Test: 4.8957277323583455 \n",
      "For split:0.79 RMSE_Train: 4.407088126409727 , RMSE_Test: 4.966889449853149 \n",
      "For split:0.8 RMSE_Train: 4.422341623225986 , RMSE_Test: 4.959100512692073 \n",
      "For split:0.81 RMSE_Train: 4.385403199859124 , RMSE_Test: 4.960306944625335 \n",
      "For split:0.82 RMSE_Train: 4.484531827630819 , RMSE_Test: 4.974617860349335 \n",
      "For split:0.83 RMSE_Train: 4.392763860657795 , RMSE_Test: 5.013402851925685 \n",
      "For split:0.84 RMSE_Train: 4.347623726637938 , RMSE_Test: 5.061325441829599 \n",
      "For split:0.85 RMSE_Train: 4.41582829437789 , RMSE_Test: 5.076220408343438 \n",
      "For split:0.86 RMSE_Train: 4.281617605224878 , RMSE_Test: 5.11521535917591 \n",
      "For split:0.87 RMSE_Train: 4.192388536373755 , RMSE_Test: 5.104891299880817 \n",
      "For split:0.88 RMSE_Train: 4.31041998946683 , RMSE_Test: 5.148556229966103 \n",
      "For split:0.89 RMSE_Train: 4.2516008541739 , RMSE_Test: 5.1900473140858745 \n",
      "For split:0.9 RMSE_Train: 4.2414802783940475 , RMSE_Test: 5.240860631069203 \n",
      "For split:0.91 RMSE_Train: 4.122323513724045 , RMSE_Test: 5.237007439573642 \n",
      "For split:0.92 RMSE_Train: 4.153166961694941 , RMSE_Test: 5.420721482714302 \n",
      "For split:0.93 RMSE_Train: 4.010569703067553 , RMSE_Test: 5.472220744763671 \n",
      "For split:0.94 RMSE_Train: 3.825336960592009 , RMSE_Test: 5.6633194559435776 \n",
      "For split:0.95 RMSE_Train: 3.7675080238971246 , RMSE_Test: 5.809632022390499 \n"
     ]
    }
   ],
   "source": [
    "outputs2 = [average_split_RMSE (X,y,split_size=i/100) for i in range(5,96)]"
   ]
  },
  {
   "cell_type": "code",
   "execution_count": 24,
   "metadata": {
    "scrolled": false
   },
   "outputs": [],
   "source": [
    "df2 = pd.DataFrame(outputs2, columns= [\"size\",\"RMSE_Train_mean\",\"RMSE_Test_mean\"])"
   ]
  },
  {
   "cell_type": "code",
   "execution_count": 26,
   "metadata": {},
   "outputs": [
    {
     "data": {
      "image/png": "[encoded data removed]",
      "text/plain": [
       "<Figure size 1440x288 with 1 Axes>"
      ]
     },
     "metadata": {
      "needs_background": "light"
     },
     "output_type": "display_data"
    }
   ],
   "source": [
    "fig2 = plt.figure(figsize=(20,4))\n",
    "plt.scatter(df2[\"size\"],df2[\"RMSE_Train_mean\"], color = \"blue\");\n",
    "plt.scatter(df2[\"size\"],df2[\"RMSE_Test_mean\"], color = \"red\");"
   ]
  },
  {
   "cell_type": "markdown",
   "metadata": {},
   "source": [
    "With an increase in size of the Test set there comes an increas in error size. This means there is a certain point from which on the training data is not sufficient enough to build a good enough model to explain the test data"
   ]
  },
  {
   "cell_type": "markdown",
   "metadata": {},
   "source": [
    "What's happening here? evaluate your result!"
   ]
  },
  {
   "cell_type": "markdown",
   "metadata": {},
   "source": [
    "##  Summary "
   ]
  },
  {
   "cell_type": "markdown",
   "metadata": {},
   "source": [
    "Congratulations! You now practiced your knowledge on MSE and on using train-test-split."
   ]
  }
 ],
 "metadata": {
  "kernelspec": {
   "display_name": "Python 3",
   "language": "python",
   "name": "python3"
  },
  "language_info": {
   "codemirror_mode": {
    "name": "ipython",
    "version": 3
   },
   "file_extension": ".py",
   "mimetype": "text/x-python",
   "name": "python",
   "nbconvert_exporter": "python",
   "pygments_lexer": "ipython3",
   "version": "3.6.6"
  }
 },
 "nbformat": 4,
 "nbformat_minor": 2
}
